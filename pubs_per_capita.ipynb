{
 "cells": [
  {
   "cell_type": "markdown",
   "metadata": {},
   "source": [
    "# Introduction\n",
    "In a facebook group I'm a member of devoted to skepticism, there was a very stupid debate over whether or not muslims or the muslim world has contributed significantly to science recently. There was very little data involved so I thought that I could get some data and do a little analysis to find out if muslim majority countries are doing worse on academic publications per capita than would be expected if we also take into account GDP per capita, political freedom and Human Development Index."
   ]
  },
  {
   "cell_type": "code",
   "execution_count": 2,
   "metadata": {
    "collapsed": false
   },
   "outputs": [
    {
     "name": "stderr",
     "output_type": "stream",
     "text": [
      "/home/hanbre/anaconda2/lib/python2.7/site-packages/statsmodels/compat/pandas.py:56: FutureWarning: The pandas.core.datetools module is deprecated and will be removed in a future version. Please use the pandas.tseries module instead.\n",
      "  from pandas.core import datetools\n"
     ]
    }
   ],
   "source": [
    "from __future__ import print_function\n",
    "import numpy as np\n",
    "import pandas as pd\n",
    "from pandas.tools import plotting\n",
    "from scipy import stats\n",
    "import statsmodels\n",
    "import statsmodels.api as sm\n",
    "from statsmodels.formula.api import ols\n",
    "import matplotlib.pyplot as plt\n",
    "import seaborn as sns\n",
    "%matplotlib inline\n",
    "sns.set_style('ticks')"
   ]
  },
  {
   "cell_type": "markdown",
   "metadata": {},
   "source": [
    "# Read dataframes:\n",
    "First a dataframe containing the total number of publications per capita in the period 1993-2012 [1], the GDP (PPP) per capita in 2016 [2], the Freedom in the world index for 2012[3] and HDI for 2012[4].\n",
    "\n",
    "The second data frame is a list of muslim majority countries[5]."
   ]
  },
  {
   "cell_type": "code",
   "execution_count": 3,
   "metadata": {
    "collapsed": false
   },
   "outputs": [],
   "source": [
    "data = pd.read_excel('pubs_per_capita_gdp.xlsx')\n",
    "countries = pd.read_excel('muslim_majority_countries.xlsx')"
   ]
  },
  {
   "cell_type": "code",
   "execution_count": 4,
   "metadata": {
    "collapsed": false
   },
   "outputs": [
    {
     "data": {
      "text/html": [
       "<div>\n",
       "<style>\n",
       "    .dataframe thead tr:only-child th {\n",
       "        text-align: right;\n",
       "    }\n",
       "\n",
       "    .dataframe thead th {\n",
       "        text-align: left;\n",
       "    }\n",
       "\n",
       "    .dataframe tbody tr th {\n",
       "        vertical-align: top;\n",
       "    }\n",
       "</style>\n",
       "<table border=\"1\" class=\"dataframe\">\n",
       "  <thead>\n",
       "    <tr style=\"text-align: right;\">\n",
       "      <th></th>\n",
       "      <th>No</th>\n",
       "      <th>Country</th>\n",
       "      <th>Pubscap</th>\n",
       "      <th>GDPcap</th>\n",
       "      <th>Freedom</th>\n",
       "      <th>HDI</th>\n",
       "    </tr>\n",
       "  </thead>\n",
       "  <tbody>\n",
       "    <tr>\n",
       "      <th>1</th>\n",
       "      <td>120.0</td>\n",
       "      <td>Albania</td>\n",
       "      <td>0.000488</td>\n",
       "      <td>11840.228</td>\n",
       "      <td>PF</td>\n",
       "      <td>0.759</td>\n",
       "    </tr>\n",
       "    <tr>\n",
       "      <th>2</th>\n",
       "      <td>115.0</td>\n",
       "      <td>Algeria</td>\n",
       "      <td>0.000668</td>\n",
       "      <td>15026.461</td>\n",
       "      <td>NF</td>\n",
       "      <td>0.737</td>\n",
       "    </tr>\n",
       "    <tr>\n",
       "      <th>3</th>\n",
       "      <td>189.0</td>\n",
       "      <td>Angola</td>\n",
       "      <td>0.000021</td>\n",
       "      <td>6844.433</td>\n",
       "      <td>NF</td>\n",
       "      <td>0.523</td>\n",
       "    </tr>\n",
       "    <tr>\n",
       "      <th>4</th>\n",
       "      <td>106.0</td>\n",
       "      <td>Antigua and Barbuda</td>\n",
       "      <td>0.000842</td>\n",
       "      <td>25156.545</td>\n",
       "      <td>F</td>\n",
       "      <td>0.781</td>\n",
       "    </tr>\n",
       "    <tr>\n",
       "      <th>5</th>\n",
       "      <td>65.0</td>\n",
       "      <td>Argentina</td>\n",
       "      <td>0.002880</td>\n",
       "      <td>20047.489</td>\n",
       "      <td>F</td>\n",
       "      <td>0.823</td>\n",
       "    </tr>\n",
       "    <tr>\n",
       "      <th>6</th>\n",
       "      <td>60.0</td>\n",
       "      <td>Armenia</td>\n",
       "      <td>0.003154</td>\n",
       "      <td>8620.975</td>\n",
       "      <td>PF</td>\n",
       "      <td>0.736</td>\n",
       "    </tr>\n",
       "    <tr>\n",
       "      <th>7</th>\n",
       "      <td>10.0</td>\n",
       "      <td>Australia</td>\n",
       "      <td>0.030136</td>\n",
       "      <td>48899.123</td>\n",
       "      <td>F</td>\n",
       "      <td>0.933</td>\n",
       "    </tr>\n",
       "    <tr>\n",
       "      <th>8</th>\n",
       "      <td>16.0</td>\n",
       "      <td>Austria</td>\n",
       "      <td>0.025388</td>\n",
       "      <td>48004.660</td>\n",
       "      <td>F</td>\n",
       "      <td>0.887</td>\n",
       "    </tr>\n",
       "    <tr>\n",
       "      <th>9</th>\n",
       "      <td>109.0</td>\n",
       "      <td>Azerbaijan</td>\n",
       "      <td>0.000804</td>\n",
       "      <td>17438.590</td>\n",
       "      <td>NF</td>\n",
       "      <td>0.745</td>\n",
       "    </tr>\n",
       "  </tbody>\n",
       "</table>\n",
       "</div>"
      ],
      "text/plain": [
       "      No              Country   Pubscap     GDPcap Freedom    HDI\n",
       "1  120.0              Albania  0.000488  11840.228      PF  0.759\n",
       "2  115.0              Algeria  0.000668  15026.461      NF  0.737\n",
       "3  189.0               Angola  0.000021   6844.433      NF  0.523\n",
       "4  106.0  Antigua and Barbuda  0.000842  25156.545       F  0.781\n",
       "5   65.0            Argentina  0.002880  20047.489       F  0.823\n",
       "6   60.0              Armenia  0.003154   8620.975      PF  0.736\n",
       "7   10.0            Australia  0.030136  48899.123       F  0.933\n",
       "8   16.0              Austria  0.025388  48004.660       F  0.887\n",
       "9  109.0           Azerbaijan  0.000804  17438.590      NF  0.745"
      ]
     },
     "execution_count": 4,
     "metadata": {},
     "output_type": "execute_result"
    }
   ],
   "source": [
    "data.iloc[1:10,:] #print some data"
   ]
  },
  {
   "cell_type": "markdown",
   "metadata": {},
   "source": [
    "## Add muslim majority status to data"
   ]
  },
  {
   "cell_type": "code",
   "execution_count": 5,
   "metadata": {
    "collapsed": false
   },
   "outputs": [],
   "source": [
    "mmc = countries.iloc[:,0]\n",
    "mm = [c in mmc.values for c in data.iloc[:,1]]\n",
    "data['muslim_majority']=mm"
   ]
  },
  {
   "cell_type": "code",
   "execution_count": 14,
   "metadata": {
    "collapsed": false
   },
   "outputs": [
    {
     "data": {
      "text/html": [
       "<div>\n",
       "<style>\n",
       "    .dataframe thead tr:only-child th {\n",
       "        text-align: right;\n",
       "    }\n",
       "\n",
       "    .dataframe thead th {\n",
       "        text-align: left;\n",
       "    }\n",
       "\n",
       "    .dataframe tbody tr th {\n",
       "        vertical-align: top;\n",
       "    }\n",
       "</style>\n",
       "<table border=\"1\" class=\"dataframe\">\n",
       "  <thead>\n",
       "    <tr style=\"text-align: right;\">\n",
       "      <th></th>\n",
       "      <th>No</th>\n",
       "      <th>Country</th>\n",
       "      <th>Pubscap</th>\n",
       "      <th>GDPcap</th>\n",
       "      <th>Freedom</th>\n",
       "      <th>HDI</th>\n",
       "      <th>muslim_majority</th>\n",
       "    </tr>\n",
       "  </thead>\n",
       "  <tbody>\n",
       "    <tr>\n",
       "      <th>1</th>\n",
       "      <td>120.0</td>\n",
       "      <td>Albania</td>\n",
       "      <td>0.000488</td>\n",
       "      <td>11840.228</td>\n",
       "      <td>PF</td>\n",
       "      <td>0.759</td>\n",
       "      <td>True</td>\n",
       "    </tr>\n",
       "    <tr>\n",
       "      <th>2</th>\n",
       "      <td>115.0</td>\n",
       "      <td>Algeria</td>\n",
       "      <td>0.000668</td>\n",
       "      <td>15026.461</td>\n",
       "      <td>NF</td>\n",
       "      <td>0.737</td>\n",
       "      <td>True</td>\n",
       "    </tr>\n",
       "    <tr>\n",
       "      <th>3</th>\n",
       "      <td>189.0</td>\n",
       "      <td>Angola</td>\n",
       "      <td>0.000021</td>\n",
       "      <td>6844.433</td>\n",
       "      <td>NF</td>\n",
       "      <td>0.523</td>\n",
       "      <td>False</td>\n",
       "    </tr>\n",
       "    <tr>\n",
       "      <th>4</th>\n",
       "      <td>106.0</td>\n",
       "      <td>Antigua and Barbuda</td>\n",
       "      <td>0.000842</td>\n",
       "      <td>25156.545</td>\n",
       "      <td>F</td>\n",
       "      <td>0.781</td>\n",
       "      <td>False</td>\n",
       "    </tr>\n",
       "    <tr>\n",
       "      <th>5</th>\n",
       "      <td>65.0</td>\n",
       "      <td>Argentina</td>\n",
       "      <td>0.002880</td>\n",
       "      <td>20047.489</td>\n",
       "      <td>F</td>\n",
       "      <td>0.823</td>\n",
       "      <td>False</td>\n",
       "    </tr>\n",
       "    <tr>\n",
       "      <th>6</th>\n",
       "      <td>60.0</td>\n",
       "      <td>Armenia</td>\n",
       "      <td>0.003154</td>\n",
       "      <td>8620.975</td>\n",
       "      <td>PF</td>\n",
       "      <td>0.736</td>\n",
       "      <td>False</td>\n",
       "    </tr>\n",
       "    <tr>\n",
       "      <th>7</th>\n",
       "      <td>10.0</td>\n",
       "      <td>Australia</td>\n",
       "      <td>0.030136</td>\n",
       "      <td>48899.123</td>\n",
       "      <td>F</td>\n",
       "      <td>0.933</td>\n",
       "      <td>False</td>\n",
       "    </tr>\n",
       "    <tr>\n",
       "      <th>8</th>\n",
       "      <td>16.0</td>\n",
       "      <td>Austria</td>\n",
       "      <td>0.025388</td>\n",
       "      <td>48004.660</td>\n",
       "      <td>F</td>\n",
       "      <td>0.887</td>\n",
       "      <td>False</td>\n",
       "    </tr>\n",
       "    <tr>\n",
       "      <th>9</th>\n",
       "      <td>109.0</td>\n",
       "      <td>Azerbaijan</td>\n",
       "      <td>0.000804</td>\n",
       "      <td>17438.590</td>\n",
       "      <td>NF</td>\n",
       "      <td>0.745</td>\n",
       "      <td>True</td>\n",
       "    </tr>\n",
       "  </tbody>\n",
       "</table>\n",
       "</div>"
      ],
      "text/plain": [
       "      No              Country   Pubscap     GDPcap Freedom    HDI  \\\n",
       "1  120.0              Albania  0.000488  11840.228      PF  0.759   \n",
       "2  115.0              Algeria  0.000668  15026.461      NF  0.737   \n",
       "3  189.0               Angola  0.000021   6844.433      NF  0.523   \n",
       "4  106.0  Antigua and Barbuda  0.000842  25156.545       F  0.781   \n",
       "5   65.0            Argentina  0.002880  20047.489       F  0.823   \n",
       "6   60.0              Armenia  0.003154   8620.975      PF  0.736   \n",
       "7   10.0            Australia  0.030136  48899.123       F  0.933   \n",
       "8   16.0              Austria  0.025388  48004.660       F  0.887   \n",
       "9  109.0           Azerbaijan  0.000804  17438.590      NF  0.745   \n",
       "\n",
       "   muslim_majority  \n",
       "1             True  \n",
       "2             True  \n",
       "3            False  \n",
       "4            False  \n",
       "5            False  \n",
       "6            False  \n",
       "7            False  \n",
       "8            False  \n",
       "9             True  "
      ]
     },
     "execution_count": 14,
     "metadata": {},
     "output_type": "execute_result"
    }
   ],
   "source": [
    "data.iloc[1:10,:] #Print some of the data"
   ]
  },
  {
   "cell_type": "markdown",
   "metadata": {},
   "source": [
    "# Make labeled scatter plot. Purple markers are muslim majority"
   ]
  },
  {
   "cell_type": "code",
   "execution_count": 7,
   "metadata": {
    "collapsed": false
   },
   "outputs": [
    {
     "data": {
      "image/png": "[encoded data removed]",
      "text/plain": [
       "<matplotlib.figure.Figure at 0x7fe176cd6850>"
      ]
     },
     "metadata": {},
     "output_type": "display_data"
    }
   ],
   "source": [
    "labels = data.iloc[:,1]\n",
    "\n",
    "plt.scatter(data.iloc[:, 2], data.iloc[:, 3], marker='o', c=data['muslim_majority'], cmap=plt.get_cmap('Spectral'))\n",
    "\n",
    "for label, x, y in zip(labels, data.iloc[:, 2], data.iloc[:, 3]):\n",
    "    if label in mmc.values:\n",
    "        plt.annotate(\n",
    "            label,\n",
    "            xy=(x, y), xytext=(-20, 20),\n",
    "            textcoords='offset points', ha='right', va='bottom',\n",
    "            bbox=dict(boxstyle='round,pad=0.5', fc='yellow', alpha=0.5),\n",
    "            arrowprops=dict(arrowstyle = '->', connectionstyle='arc3,rad=0'))\n",
    "\n",
    "\n",
    "plt.xlabel('Pubs/capita')\n",
    "plt.ylabel('GDP(PPP)/per capita')\n",
    "plt.show()"
   ]
  },
  {
   "cell_type": "markdown",
   "metadata": {},
   "source": [
    "# Make linear regression model incorporating GDP, freedom index and muslim majority status\n",
    "Model: pubs/capita ~ GDP (PPP)/capita + muslim majority status + Freedom in the world status"
   ]
  },
  {
   "cell_type": "code",
   "execution_count": 12,
   "metadata": {
    "collapsed": false
   },
   "outputs": [
    {
     "name": "stdout",
     "output_type": "stream",
     "text": [
      "                            OLS Regression Results                            \n",
      "==============================================================================\n",
      "Dep. Variable:                Pubscap   R-squared:                       0.540\n",
      "Model:                            OLS   Adj. R-squared:                  0.526\n",
      "Method:                 Least Squares   F-statistic:                     37.79\n",
      "Date:                Thu, 16 Nov 2017   Prob (F-statistic):           1.61e-25\n",
      "Time:                        14:21:02   Log-Likelihood:                 598.19\n",
      "No. Observations:                 167   AIC:                            -1184.\n",
      "Df Residuals:                     161   BIC:                            -1166.\n",
      "Df Model:                           5                                         \n",
      "Covariance Type:            nonrobust                                         \n",
      "==============================================================================================\n",
      "                                 coef    std err          t      P>|t|      [0.025      0.975]\n",
      "----------------------------------------------------------------------------------------------\n",
      "Intercept                     -0.0051      0.004     -1.303      0.195      -0.013       0.003\n",
      "C(muslim_majority)[T.True]    -0.0020      0.001     -1.417      0.158      -0.005       0.001\n",
      "C(Freedom)[T.NF]              -0.0055      0.002     -3.222      0.002      -0.009      -0.002\n",
      "C(Freedom)[T.PF]              -0.0037      0.001     -2.619      0.010      -0.007      -0.001\n",
      "GDPcap                      1.926e-07   3.89e-08      4.952      0.000    1.16e-07    2.69e-07\n",
      "HDI                            0.0142      0.006      2.457      0.015       0.003       0.026\n",
      "==============================================================================\n",
      "Omnibus:                       39.446   Durbin-Watson:                   1.589\n",
      "Prob(Omnibus):                  0.000   Jarque-Bera (JB):               93.919\n",
      "Skew:                           1.003   Prob(JB):                     4.03e-21\n",
      "Kurtosis:                       6.078   Cond. No.                     3.82e+05\n",
      "==============================================================================\n",
      "\n",
      "Warnings:\n",
      "[1] Standard Errors assume that the covariance matrix of the errors is correctly specified.\n",
      "[2] The condition number is large, 3.82e+05. This might indicate that there are\n",
      "strong multicollinearity or other numerical problems.\n"
     ]
    }
   ],
   "source": [
    "model = ols(\"Pubscap ~ GDPcap + HDI + C(muslim_majority) + C(Freedom)\",data).fit()\n",
    "print(model.summary())"
   ]
  },
  {
   "cell_type": "markdown",
   "metadata": {},
   "source": [
    "# Interpretation\n",
    "Pubs per capita is positively influenced by GDP/capita and HDI and negatively influenced by being less free. It is also negaitvely influenced by a country being muslim majority, but this influence is not statistically significant. Adding HDI and political freedom inproved the model fit. "
   ]
  },
  {
   "cell_type": "markdown",
   "metadata": {
    "collapsed": false
   },
   "source": [
    "# ANOVA"
   ]
  },
  {
   "cell_type": "code",
   "execution_count": 13,
   "metadata": {
    "collapsed": false
   },
   "outputs": [
    {
     "data": {
      "text/html": [
       "<div>\n",
       "<style>\n",
       "    .dataframe thead tr:only-child th {\n",
       "        text-align: right;\n",
       "    }\n",
       "\n",
       "    .dataframe thead th {\n",
       "        text-align: left;\n",
       "    }\n",
       "\n",
       "    .dataframe tbody tr th {\n",
       "        vertical-align: top;\n",
       "    }\n",
       "</style>\n",
       "<table border=\"1\" class=\"dataframe\">\n",
       "  <thead>\n",
       "    <tr style=\"text-align: right;\">\n",
       "      <th></th>\n",
       "      <th>sum_sq</th>\n",
       "      <th>df</th>\n",
       "      <th>F</th>\n",
       "      <th>PR(&gt;F)</th>\n",
       "    </tr>\n",
       "  </thead>\n",
       "  <tbody>\n",
       "    <tr>\n",
       "      <th>C(muslim_majority)</th>\n",
       "      <td>0.000094</td>\n",
       "      <td>1.0</td>\n",
       "      <td>2.008443</td>\n",
       "      <td>0.158358</td>\n",
       "    </tr>\n",
       "    <tr>\n",
       "      <th>C(Freedom)</th>\n",
       "      <td>0.000540</td>\n",
       "      <td>2.0</td>\n",
       "      <td>5.740106</td>\n",
       "      <td>0.003908</td>\n",
       "    </tr>\n",
       "    <tr>\n",
       "      <th>GDPcap</th>\n",
       "      <td>0.001153</td>\n",
       "      <td>1.0</td>\n",
       "      <td>24.520384</td>\n",
       "      <td>0.000002</td>\n",
       "    </tr>\n",
       "    <tr>\n",
       "      <th>HDI</th>\n",
       "      <td>0.000284</td>\n",
       "      <td>1.0</td>\n",
       "      <td>6.039271</td>\n",
       "      <td>0.015051</td>\n",
       "    </tr>\n",
       "    <tr>\n",
       "      <th>Residual</th>\n",
       "      <td>0.007568</td>\n",
       "      <td>161.0</td>\n",
       "      <td>NaN</td>\n",
       "      <td>NaN</td>\n",
       "    </tr>\n",
       "  </tbody>\n",
       "</table>\n",
       "</div>"
      ],
      "text/plain": [
       "                      sum_sq     df          F    PR(>F)\n",
       "C(muslim_majority)  0.000094    1.0   2.008443  0.158358\n",
       "C(Freedom)          0.000540    2.0   5.740106  0.003908\n",
       "GDPcap              0.001153    1.0  24.520384  0.000002\n",
       "HDI                 0.000284    1.0   6.039271  0.015051\n",
       "Residual            0.007568  161.0        NaN       NaN"
      ]
     },
     "execution_count": 13,
     "metadata": {},
     "output_type": "execute_result"
    }
   ],
   "source": [
    "sm.stats.anova_lm(model,typ=2)"
   ]
  },
  {
   "cell_type": "markdown",
   "metadata": {},
   "source": [
    "# References\n",
    "[1]https://academia.stackexchange.com/questions/18767/research-publications-per-capita\n",
    "\n",
    "[2]http://www.imf.org/external/pubs/ft/weo/2017/01/weodata/index.aspx\n",
    "\n",
    "[3]https://freedomhouse.org/report-types/freedom-world\n",
    "\n",
    "[4]http://hdr.undp.org/en/data#\n",
    "\n",
    "[5]https://web.archive.org/web/20110202124356/http://features.pewforum.org:80/muslim-population/"
   ]
  },
  {
   "cell_type": "code",
   "execution_count": null,
   "metadata": {
    "collapsed": true
   },
   "outputs": [],
   "source": []
  }
 ],
 "metadata": {
  "kernelspec": {
   "display_name": "Python 2",
   "language": "python",
   "name": "python2"
  },
  "language_info": {
   "codemirror_mode": {
    "name": "ipython",
    "version": 2
   },
   "file_extension": ".py",
   "mimetype": "text/x-python",
   "name": "python",
   "nbconvert_exporter": "python",
   "pygments_lexer": "ipython2",
   "version": "2.7.12"
  }
 },
 "nbformat": 4,
 "nbformat_minor": 0
}
